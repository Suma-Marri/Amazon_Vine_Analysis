{
  "nbformat": 4,
  "nbformat_minor": 0,
  "metadata": {
    "colab": {
      "name": "Vine_Review_Analysis.ipynb",
      "provenance": [],
      "authorship_tag": "ABX9TyOVmGmjZEoaNhRm6FBTU6zz",
      "include_colab_link": true
    },
    "kernelspec": {
      "name": "python3",
      "display_name": "Python 3"
    },
    "language_info": {
      "name": "python"
    }
  },
  "cells": [
    {
      "cell_type": "markdown",
      "metadata": {
        "id": "view-in-github",
        "colab_type": "text"
      },
      "source": [
        "<a href=\"https://colab.research.google.com/github/Suma-Marri/Amazon_Vine_Analysis/blob/main/Vine_Review_Analysis.ipynb\" target=\"_parent\"><img src=\"https://colab.research.google.com/assets/colab-badge.svg\" alt=\"Open In Colab\"/></a>"
      ]
    },
    {
      "cell_type": "code",
      "execution_count": 6,
      "metadata": {
        "colab": {
          "base_uri": "https://localhost:8080/"
        },
        "id": "9Sm3MWLg8kt3",
        "outputId": "a94fc6e3-07f5-49f0-c37f-c1fe0cc7adde"
      },
      "outputs": [
        {
          "output_type": "stream",
          "name": "stdout",
          "text": [
            "\r0% [Working]\r            \rHit:1 https://cloud.r-project.org/bin/linux/ubuntu bionic-cran40/ InRelease\n",
            "\r0% [Connecting to archive.ubuntu.com] [Connecting to security.ubuntu.com] [Conn\r0% [1 InRelease gpgv 3,626 B] [Connecting to archive.ubuntu.com (91.189.91.38)]\r                                                                               \rIgn:2 https://developer.download.nvidia.com/compute/cuda/repos/ubuntu1804/x86_64  InRelease\n",
            "\r0% [1 InRelease gpgv 3,626 B] [Connecting to archive.ubuntu.com (91.189.91.38)]\r                                                                               \rIgn:3 https://developer.download.nvidia.com/compute/machine-learning/repos/ubuntu1804/x86_64  InRelease\n",
            "\r0% [1 InRelease gpgv 3,626 B] [Connecting to archive.ubuntu.com (91.189.91.38)]\r                                                                               \rHit:4 https://developer.download.nvidia.com/compute/cuda/repos/ubuntu1804/x86_64  Release\n",
            "Hit:5 https://developer.download.nvidia.com/compute/machine-learning/repos/ubuntu1804/x86_64  Release\n",
            "Hit:6 http://archive.ubuntu.com/ubuntu bionic InRelease\n",
            "Hit:7 http://archive.ubuntu.com/ubuntu bionic-updates InRelease\n",
            "Hit:8 http://ppa.launchpad.net/c2d4u.team/c2d4u4.0+/ubuntu bionic InRelease\n",
            "Hit:9 http://security.ubuntu.com/ubuntu bionic-security InRelease\n",
            "Hit:10 http://archive.ubuntu.com/ubuntu bionic-backports InRelease\n",
            "Hit:12 http://ppa.launchpad.net/cran/libgit2/ubuntu bionic InRelease\n",
            "Hit:14 http://ppa.launchpad.net/deadsnakes/ppa/ubuntu bionic InRelease\n",
            "Hit:15 http://ppa.launchpad.net/graphics-drivers/ppa/ubuntu bionic InRelease\n",
            "Reading package lists... Done\n"
          ]
        }
      ],
      "source": [
        "import os\n",
        "# Find the latest version of spark 3.0 from http://www.apache.org/dist/spark/ and enter as the spark version\n",
        "spark_version = 'spark-3.2.1'\n",
        "os.environ['SPARK_VERSION']=spark_version\n",
        "\n",
        "# Install Spark and Java\n",
        "!apt-get update\n",
        "!apt-get install openjdk-11-jdk-headless -qq > /dev/null\n",
        "!wget -q http://www.apache.org/dist/spark/$SPARK_VERSION/$SPARK_VERSION-bin-hadoop2.7.tgz\n",
        "!tar xf $SPARK_VERSION-bin-hadoop2.7.tgz\n",
        "!pip install -q findspark\n",
        "\n",
        "# Set Environment Variables\n",
        "import os\n",
        "os.environ[\"JAVA_HOME\"] = \"/usr/lib/jvm/java-11-openjdk-amd64\"\n",
        "os.environ[\"SPARK_HOME\"] = f\"/content/{spark_version}-bin-hadoop2.7\"\n",
        "\n",
        "# Start a SparkSession\n",
        "import findspark\n",
        "findspark.init()"
      ]
    },
    {
      "cell_type": "code",
      "source": [
        "# Download the Postgres driver that will allow Spark to interact with Postgres.\n",
        "!wget https://jdbc.postgresql.org/download/postgresql-42.2.16.jar"
      ],
      "metadata": {
        "id": "ux-1B3Il98Ud",
        "outputId": "7dc1e212-9b9d-412d-d65f-bfe28e6a8f25",
        "colab": {
          "base_uri": "https://localhost:8080/"
        }
      },
      "execution_count": 7,
      "outputs": [
        {
          "output_type": "stream",
          "name": "stdout",
          "text": [
            "--2022-04-17 14:40:50--  https://jdbc.postgresql.org/download/postgresql-42.2.16.jar\n",
            "Resolving jdbc.postgresql.org (jdbc.postgresql.org)... 72.32.157.228, 2001:4800:3e1:1::228\n",
            "Connecting to jdbc.postgresql.org (jdbc.postgresql.org)|72.32.157.228|:443... connected.\n",
            "HTTP request sent, awaiting response... 200 OK\n",
            "Length: 1002883 (979K) [application/java-archive]\n",
            "Saving to: ‘postgresql-42.2.16.jar’\n",
            "\n",
            "postgresql-42.2.16. 100%[===================>] 979.38K  4.94MB/s    in 0.2s    \n",
            "\n",
            "2022-04-17 14:40:51 (4.94 MB/s) - ‘postgresql-42.2.16.jar’ saved [1002883/1002883]\n",
            "\n"
          ]
        }
      ]
    },
    {
      "cell_type": "code",
      "source": [
        "from pyspark.sql import SparkSession\n",
        "spark = SparkSession.builder.appName(\"M16-Amazon-Challenge\").config(\"spark.driver.extraClassPath\",\"/content/postgresql-42.2.16.jar\").getOrCreate()"
      ],
      "metadata": {
        "id": "79XwZs5b88XO"
      },
      "execution_count": 8,
      "outputs": []
    },
    {
      "cell_type": "markdown",
      "source": [
        "### Load Amazon Data into Spark DataFrame\n"
      ],
      "metadata": {
        "id": "ADMzA7rL9F_s"
      }
    },
    {
      "cell_type": "code",
      "source": [
        "from pyspark import SparkFiles\n",
        "url = \"https://s3.amazonaws.com/amazon-reviews-pds/tsv/amazon_reviews_us_Video_Games_v1_00.tsv.gz\"\n",
        "spark.sparkContext.addFile(url)\n",
        "df = spark.read.option(\"encoding\", \"UTF-8\").csv(SparkFiles.get(\"\"), sep=\"\\t\", header=True, inferSchema=True)\n",
        "df.show()"
      ],
      "metadata": {
        "id": "HIXbcdMG9Cj0",
        "colab": {
          "base_uri": "https://localhost:8080/"
        },
        "outputId": "7734780b-c205-407f-864a-9a7fd032bda9"
      },
      "execution_count": 9,
      "outputs": [
        {
          "output_type": "stream",
          "name": "stdout",
          "text": [
            "+-----------+-----------+--------------+----------+--------------+--------------------+----------------+-----------+-------------+-----------+----+-----------------+--------------------+--------------------+-----------+\n",
            "|marketplace|customer_id|     review_id|product_id|product_parent|       product_title|product_category|star_rating|helpful_votes|total_votes|vine|verified_purchase|     review_headline|         review_body|review_date|\n",
            "+-----------+-----------+--------------+----------+--------------+--------------------+----------------+-----------+-------------+-----------+----+-----------------+--------------------+--------------------+-----------+\n",
            "|         US|   12039526| RTIS3L2M1F5SM|B001CXYMFS|     737716809|Thrustmaster T-Fl...|     Video Games|          5|            0|          0|   N|                Y|an amazing joysti...|Used this for Eli...| 2015-08-31|\n",
            "|         US|    9636577| R1ZV7R40OLHKD|B00M920ND6|     569686175|Tonsee 6 buttons ...|     Video Games|          5|            0|          0|   N|                Y|Definitely a sile...|Loved it,  I didn...| 2015-08-31|\n",
            "|         US|    2331478|R3BH071QLH8QMC|B0029CSOD2|      98937668|Hidden Mysteries:...|     Video Games|          1|            0|          1|   N|                Y|            One Star|poor quality work...| 2015-08-31|\n",
            "|         US|   52495923|R127K9NTSXA2YH|B00GOOSV98|      23143350|GelTabz Performan...|     Video Games|          3|            0|          0|   N|                Y|good, but could b...|nice, but tend to...| 2015-08-31|\n",
            "|         US|   14533949|R32ZWUXDJPW27Q|B00Y074JOM|     821342511|Zero Suit Samus a...|     Video Games|          4|            0|          0|   N|                Y|   Great but flawed.|Great amiibo, gre...| 2015-08-31|\n",
            "|         US|    2377552|R3AQQ4YUKJWBA6|B002UBI6W6|     328764615|Psyclone Recharge...|     Video Games|          1|            0|          0|   N|                Y|            One Star|The remote consta...| 2015-08-31|\n",
            "|         US|   17521011|R2F0POU5K6F73F|B008XHCLFO|      24234603|Protection for yo...|     Video Games|          5|            0|          0|   N|                Y|              A Must|I have a 2012-201...| 2015-08-31|\n",
            "|         US|   19676307|R3VNR804HYSMR6|B00BRA9R6A|     682267517|   Nerf 3DS XL Armor|     Video Games|          5|            0|          0|   N|                Y|          Five Stars|Perfect, kids lov...| 2015-08-31|\n",
            "|         US|     224068| R3GZTM72WA2QH|B009EPWJLA|     435241890|One Piece: Pirate...|     Video Games|          5|            0|          0|   N|                Y|          Five Stars|            Excelent| 2015-08-31|\n",
            "|         US|   48467989| RNQOY62705W1K|B0000AV7GB|     256572651|Playstation 2 Dan...|     Video Games|          4|            0|          0|   N|                Y|          Four Stars|Slippery but expe...| 2015-08-31|\n",
            "|         US|     106569|R1VTIA3JTYBY02|B00008KTNN|     384411423|Metal Arms: Glitc...|     Video Games|          5|            0|          0|   N|                N|          Five Stars|Love the game. Se...| 2015-08-31|\n",
            "|         US|   48269642|R29DOU8791QZL8|B000A3IA0Y|     472622859|72 Pin Connector ...|     Video Games|          1|            0|          0|   N|                Y| Game will get stuck|Does not fit prop...| 2015-08-31|\n",
            "|         US|   52738710|R15DUT1VIJ9RJZ|B0053BQN34|     577628462|uDraw Gametablet ...|     Video Games|          2|            0|          0|   N|                Y|We have tried it ...|This was way too ...| 2015-08-31|\n",
            "|         US|   10556786|R3IMF2MQ3OU9ZM|B002I0HIMI|     988218515|NBA 2K12(Covers M...|     Video Games|          4|            0|          0|   N|                Y|          Four Stars|Works great good ...| 2015-08-31|\n",
            "|         US|    2963837|R23H79DHOZTYAU|B0081EH12M|     770100932|New Trigger Grips...|     Video Games|          1|            1|          1|   N|                Y|Now i have to buy...|It did not fit th...| 2015-08-31|\n",
            "|         US|   23092109| RIV24EQAIXA4O|B005FMLZQQ|      24647669|Xbox 360 Media Re...|     Video Games|          5|            0|          0|   N|                Y|          Five Stars|perfect lightweig...| 2015-08-31|\n",
            "|         US|   23091728|R3UCNGYDVN24YB|B002BSA388|      33706205|Super Mario Galaxy 2|     Video Games|          5|            0|          0|   N|                Y|          Five Stars|               great| 2015-08-31|\n",
            "|         US|   10712640| RUL4H4XTTN2DY|B00BUSLSAC|     829667834|Nintendo 3DS XL -...|     Video Games|          5|            0|          0|   N|                Y|          Five Stars|Works beautifully...| 2015-08-31|\n",
            "|         US|   17455376|R20JF7Z4DHTNX5|B00KWF38AW|     110680188|Captain Toad:  Tr...|     Video Games|          5|            0|          0|   N|                Y|          Five Stars|Kids loved the ga...| 2015-08-31|\n",
            "|         US|   14754850|R2T1AJ5MFI2260|B00BRQJYA8|     616463426|Lego Batman 2: DC...|     Video Games|          4|            0|          0|   N|                Y|          Four Stars|           Goodngame| 2015-08-31|\n",
            "+-----------+-----------+--------------+----------+--------------+--------------------+----------------+-----------+-------------+-----------+----+-----------------+--------------------+--------------------+-----------+\n",
            "only showing top 20 rows\n",
            "\n"
          ]
        }
      ]
    },
    {
      "cell_type": "code",
      "source": [
        "vine_df = df.filter(\"total_votes>=20\").select([\"review_id\", \"star_rating\", \"helpful_votes\", \"total_votes\", \"vine\", \"verified_purchase\"])\n",
        "vine_df.show(10)"
      ],
      "metadata": {
        "id": "N5LxV7sT-IXM",
        "outputId": "eb852913-9112-4a82-992d-191cefafab6c",
        "colab": {
          "base_uri": "https://localhost:8080/"
        }
      },
      "execution_count": 12,
      "outputs": [
        {
          "output_type": "stream",
          "name": "stdout",
          "text": [
            "+--------------+-----------+-------------+-----------+----+-----------------+\n",
            "|     review_id|star_rating|helpful_votes|total_votes|vine|verified_purchase|\n",
            "+--------------+-----------+-------------+-----------+----+-----------------+\n",
            "| R4PKAZRQJJX14|          1|           21|         34|   N|                N|\n",
            "|R2CI0Y288CC7E2|          1|           21|         35|   N|                Y|\n",
            "|R127WEQY2FM1T3|          1|          147|        175|   N|                Y|\n",
            "|R3EZ0EPYLDA34S|          1|           14|         31|   N|                Y|\n",
            "|R2FJ94555FZH32|          2|           55|         60|   N|                N|\n",
            "|R1U3AR67RE273L|          1|           51|         65|   N|                Y|\n",
            "|R3PZOXA5X1U8KW|          4|           31|         36|   N|                N|\n",
            "| R6KTC1OPIOIIG|          2|           19|         34|   N|                Y|\n",
            "|R36O341WWXXKNP|          5|           28|         31|   N|                N|\n",
            "|R3GSK9MM8DNOYI|          1|            4|         32|   N|                N|\n",
            "+--------------+-----------+-------------+-----------+----+-----------------+\n",
            "only showing top 10 rows\n",
            "\n"
          ]
        }
      ]
    },
    {
      "cell_type": "code",
      "source": [
        "vine_Review_df = vine_df.filter(\"helpful_votes/total_votes>=0.5\").select([\"review_id\", \"star_rating\", \"helpful_votes\", \"total_votes\", \"vine\", \"verified_purchase\"])\n",
        "vine_Review_df.show(10)"
      ],
      "metadata": {
        "id": "EEQjOabU9MJu",
        "colab": {
          "base_uri": "https://localhost:8080/"
        },
        "outputId": "becdba6e-6901-4b77-bb77-784ee6a3a6ae"
      },
      "execution_count": 13,
      "outputs": [
        {
          "output_type": "stream",
          "name": "stdout",
          "text": [
            "+--------------+-----------+-------------+-----------+----+-----------------+\n",
            "|     review_id|star_rating|helpful_votes|total_votes|vine|verified_purchase|\n",
            "+--------------+-----------+-------------+-----------+----+-----------------+\n",
            "| R4PKAZRQJJX14|          1|           21|         34|   N|                N|\n",
            "|R2CI0Y288CC7E2|          1|           21|         35|   N|                Y|\n",
            "|R127WEQY2FM1T3|          1|          147|        175|   N|                Y|\n",
            "|R2FJ94555FZH32|          2|           55|         60|   N|                N|\n",
            "|R1U3AR67RE273L|          1|           51|         65|   N|                Y|\n",
            "|R3PZOXA5X1U8KW|          4|           31|         36|   N|                N|\n",
            "| R6KTC1OPIOIIG|          2|           19|         34|   N|                Y|\n",
            "|R36O341WWXXKNP|          5|           28|         31|   N|                N|\n",
            "|R10LZVBLQHBVJ0|          2|          151|        198|   N|                N|\n",
            "|R1VR5GLGY1GE7N|          1|           49|         51|   N|                Y|\n",
            "+--------------+-----------+-------------+-----------+----+-----------------+\n",
            "only showing top 10 rows\n",
            "\n"
          ]
        }
      ]
    },
    {
      "cell_type": "code",
      "source": [
        "vine_Review1_df = vine_df.filter((vine_df.helpful_votes/vine_df.total_votes)>=0.5).select([\"review_id\", \"star_rating\", \"helpful_votes\", \"total_votes\", \"vine\", \"verified_purchase\"])\n",
        "vine_Review1_df.show(10)"
      ],
      "metadata": {
        "id": "wfPk1IOj-PiI",
        "outputId": "7d4d4a50-dc35-46c9-f0b9-01402b829d64",
        "colab": {
          "base_uri": "https://localhost:8080/"
        }
      },
      "execution_count": 14,
      "outputs": [
        {
          "output_type": "stream",
          "name": "stdout",
          "text": [
            "+--------------+-----------+-------------+-----------+----+-----------------+\n",
            "|     review_id|star_rating|helpful_votes|total_votes|vine|verified_purchase|\n",
            "+--------------+-----------+-------------+-----------+----+-----------------+\n",
            "| R4PKAZRQJJX14|          1|           21|         34|   N|                N|\n",
            "|R2CI0Y288CC7E2|          1|           21|         35|   N|                Y|\n",
            "|R127WEQY2FM1T3|          1|          147|        175|   N|                Y|\n",
            "|R2FJ94555FZH32|          2|           55|         60|   N|                N|\n",
            "|R1U3AR67RE273L|          1|           51|         65|   N|                Y|\n",
            "|R3PZOXA5X1U8KW|          4|           31|         36|   N|                N|\n",
            "| R6KTC1OPIOIIG|          2|           19|         34|   N|                Y|\n",
            "|R36O341WWXXKNP|          5|           28|         31|   N|                N|\n",
            "|R10LZVBLQHBVJ0|          2|          151|        198|   N|                N|\n",
            "|R1VR5GLGY1GE7N|          1|           49|         51|   N|                Y|\n",
            "+--------------+-----------+-------------+-----------+----+-----------------+\n",
            "only showing top 10 rows\n",
            "\n"
          ]
        }
      ]
    },
    {
      "cell_type": "code",
      "source": [
        "vine_only_df = vine_Review_df.filter(\"vine == 'Y'\").select([\"review_id\", \"star_rating\", \"helpful_votes\", \"total_votes\", \"vine\", \"verified_purchase\"])\n",
        "vine_only_df.show(10)"
      ],
      "metadata": {
        "id": "UwWo3ufs-gfi",
        "outputId": "ea86c695-dafb-4e60-ca39-6fe4ede20d03",
        "colab": {
          "base_uri": "https://localhost:8080/"
        }
      },
      "execution_count": 15,
      "outputs": [
        {
          "output_type": "stream",
          "name": "stdout",
          "text": [
            "+--------------+-----------+-------------+-----------+----+-----------------+\n",
            "|     review_id|star_rating|helpful_votes|total_votes|vine|verified_purchase|\n",
            "+--------------+-----------+-------------+-----------+----+-----------------+\n",
            "|R3KKUSGFZWSUIY|          5|           56|         63|   Y|                N|\n",
            "|R10FO5UKKVZBK2|          3|           23|         23|   Y|                N|\n",
            "| RM4KSGEOR7MU1|          5|           19|         24|   Y|                N|\n",
            "| RG7VRMYLEXD23|          4|           22|         26|   Y|                N|\n",
            "|R11O4YSCPSNL6L|          3|           20|         26|   Y|                N|\n",
            "|R286MFBAJ8NPD6|          5|           46|         51|   Y|                N|\n",
            "|R1JRR530H4COA2|          5|           22|         28|   Y|                N|\n",
            "| RQ5WD90PUNBU9|          5|           21|         24|   Y|                N|\n",
            "|R12648VHCQWUV9|          4|           21|         28|   Y|                N|\n",
            "|R3KAW29CJ8L6DQ|          5|           17|         20|   Y|                N|\n",
            "+--------------+-----------+-------------+-----------+----+-----------------+\n",
            "only showing top 10 rows\n",
            "\n"
          ]
        }
      ]
    },
    {
      "cell_type": "code",
      "source": [
        "nonVine_only_df = vine_Review_df.filter(\"vine == 'N'\").select([\"review_id\", \"star_rating\", \"helpful_votes\", \"total_votes\", \"vine\", \"verified_purchase\"])\n",
        "nonVine_only_df.show(10)"
      ],
      "metadata": {
        "id": "LaUccpiA-sMW",
        "outputId": "84388d30-f6bd-4397-d0ce-e72fce07769c",
        "colab": {
          "base_uri": "https://localhost:8080/"
        }
      },
      "execution_count": 16,
      "outputs": [
        {
          "output_type": "stream",
          "name": "stdout",
          "text": [
            "+--------------+-----------+-------------+-----------+----+-----------------+\n",
            "|     review_id|star_rating|helpful_votes|total_votes|vine|verified_purchase|\n",
            "+--------------+-----------+-------------+-----------+----+-----------------+\n",
            "| R4PKAZRQJJX14|          1|           21|         34|   N|                N|\n",
            "|R2CI0Y288CC7E2|          1|           21|         35|   N|                Y|\n",
            "|R127WEQY2FM1T3|          1|          147|        175|   N|                Y|\n",
            "|R2FJ94555FZH32|          2|           55|         60|   N|                N|\n",
            "|R1U3AR67RE273L|          1|           51|         65|   N|                Y|\n",
            "|R3PZOXA5X1U8KW|          4|           31|         36|   N|                N|\n",
            "| R6KTC1OPIOIIG|          2|           19|         34|   N|                Y|\n",
            "|R36O341WWXXKNP|          5|           28|         31|   N|                N|\n",
            "|R10LZVBLQHBVJ0|          2|          151|        198|   N|                N|\n",
            "|R1VR5GLGY1GE7N|          1|           49|         51|   N|                Y|\n",
            "+--------------+-----------+-------------+-----------+----+-----------------+\n",
            "only showing top 10 rows\n",
            "\n"
          ]
        }
      ]
    },
    {
      "cell_type": "code",
      "source": [
        "total_paid_review = vine_only_df.count()\n",
        "B = total_paid_review\n",
        "B"
      ],
      "metadata": {
        "id": "aSBKS1ov-0yC",
        "outputId": "069f3b2d-ffe7-4634-a37f-e8f00d20c898",
        "colab": {
          "base_uri": "https://localhost:8080/"
        }
      },
      "execution_count": 17,
      "outputs": [
        {
          "output_type": "execute_result",
          "data": {
            "text/plain": [
              "94"
            ]
          },
          "metadata": {},
          "execution_count": 17
        }
      ]
    },
    {
      "cell_type": "code",
      "source": [
        "total_unpaid_review = nonVine_only_df.count()\n",
        "total_unpaid_review"
      ],
      "metadata": {
        "id": "n1Y_ubOr-26y",
        "outputId": "22fc177d-6c75-4a11-cc08-84d6d56e849c",
        "colab": {
          "base_uri": "https://localhost:8080/"
        }
      },
      "execution_count": 18,
      "outputs": [
        {
          "output_type": "execute_result",
          "data": {
            "text/plain": [
              "40471"
            ]
          },
          "metadata": {},
          "execution_count": 18
        }
      ]
    },
    {
      "cell_type": "code",
      "source": [
        "total_five_star_review = vine_only_df.filter(\"star_rating=5\").count()\n",
        "#total_5_star_review = vine_only_df.filter(vine_only_df.star_rating == 5).count()\n",
        "A = total_five_star_review\n",
        "A"
      ],
      "metadata": {
        "id": "p5u0eBGP-47p",
        "outputId": "5c80dfd9-d2a2-4798-a6e2-4316341acc10",
        "colab": {
          "base_uri": "https://localhost:8080/"
        }
      },
      "execution_count": 19,
      "outputs": [
        {
          "output_type": "execute_result",
          "data": {
            "text/plain": [
              "48"
            ]
          },
          "metadata": {},
          "execution_count": 19
        }
      ]
    },
    {
      "cell_type": "code",
      "source": [
        "total_five_star_review_unpaid = nonVine_only_df.filter(\"star_rating=5\").count()\n",
        "total_five_star_review_unpaid"
      ],
      "metadata": {
        "id": "LxbeZdw2-6SR",
        "outputId": "931bb3e4-f6b2-4412-e868-29c016076eab",
        "colab": {
          "base_uri": "https://localhost:8080/"
        }
      },
      "execution_count": 20,
      "outputs": [
        {
          "output_type": "execute_result",
          "data": {
            "text/plain": [
              "15663"
            ]
          },
          "metadata": {},
          "execution_count": 20
        }
      ]
    },
    {
      "cell_type": "code",
      "source": [
        "paid_five_star_review_percentage = (A / B ) * 100\n",
        "paid_five_star_review_percentage"
      ],
      "metadata": {
        "id": "sOZe1hR8-89H",
        "outputId": "6026f248-7022-4ee7-df1a-a2c963e774ac",
        "colab": {
          "base_uri": "https://localhost:8080/"
        }
      },
      "execution_count": 21,
      "outputs": [
        {
          "output_type": "execute_result",
          "data": {
            "text/plain": [
              "51.06382978723404"
            ]
          },
          "metadata": {},
          "execution_count": 21
        }
      ]
    },
    {
      "cell_type": "code",
      "source": [
        "non_paid_five_star_review_percentage = (total_five_star_review_unpaid / total_unpaid_review) * 100\n",
        "non_paid_five_star_review_percentage"
      ],
      "metadata": {
        "id": "sFwK1X45-_hU",
        "outputId": "bfb836ad-1fea-4072-c4f6-16a69a4aa8a6",
        "colab": {
          "base_uri": "https://localhost:8080/"
        }
      },
      "execution_count": 22,
      "outputs": [
        {
          "output_type": "execute_result",
          "data": {
            "text/plain": [
              "38.701786464381904"
            ]
          },
          "metadata": {},
          "execution_count": 22
        }
      ]
    }
  ]
}